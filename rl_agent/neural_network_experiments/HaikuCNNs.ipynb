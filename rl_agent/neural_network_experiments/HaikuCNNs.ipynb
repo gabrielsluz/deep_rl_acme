{
  "nbformat": 4,
  "nbformat_minor": 0,
  "metadata": {
    "colab": {
      "provenance": []
    },
    "kernelspec": {
      "name": "python3",
      "display_name": "Python 3"
    },
    "language_info": {
      "name": "python"
    }
  },
  "cells": [
    {
      "cell_type": "markdown",
      "source": [
        "Testar Haiku e CNNs\n",
        "\n",
        "Datasets:\n",
        "- MNIST\n",
        "- CIFAR100\n",
        "\n",
        "Coisas a testar:\n",
        "- BatchNorm\n",
        "- Arquiteturas mais modernas\n",
        "    - Testar um transformer? hehe => só depois de já estar rodando uma CNN bacana\n",
        "- Inicialização dos pesos"
      ],
      "metadata": {
        "id": "YRQE-LXhWElo"
      }
    },
    {
      "cell_type": "code",
      "source": [
        "!pip install dm-haiku"
      ],
      "metadata": {
        "colab": {
          "base_uri": "https://localhost:8080/"
        },
        "id": "g_ojCZYqXmi1",
        "outputId": "386e65d3-06a8-4418-91f8-001656e6de89"
      },
      "execution_count": 1,
      "outputs": [
        {
          "output_type": "stream",
          "name": "stdout",
          "text": [
            "Looking in indexes: https://pypi.org/simple, https://us-python.pkg.dev/colab-wheels/public/simple/\n",
            "Collecting dm-haiku\n",
            "  Downloading dm_haiku-0.0.9-py3-none-any.whl (352 kB)\n",
            "\u001b[2K     \u001b[90m━━━━━━━━━━━━━━━━━━━━━━━━━━━━━━━━━━━━━━━\u001b[0m \u001b[32m352.1/352.1 KB\u001b[0m \u001b[31m9.3 MB/s\u001b[0m eta \u001b[36m0:00:00\u001b[0m\n",
            "\u001b[?25hRequirement already satisfied: numpy>=1.18.0 in /usr/local/lib/python3.9/dist-packages (from dm-haiku) (1.22.4)\n",
            "Requirement already satisfied: tabulate>=0.8.9 in /usr/local/lib/python3.9/dist-packages (from dm-haiku) (0.8.10)\n",
            "Collecting jmp>=0.0.2\n",
            "  Downloading jmp-0.0.4-py3-none-any.whl (18 kB)\n",
            "Requirement already satisfied: absl-py>=0.7.1 in /usr/local/lib/python3.9/dist-packages (from dm-haiku) (1.4.0)\n",
            "Installing collected packages: jmp, dm-haiku\n",
            "Successfully installed dm-haiku-0.0.9 jmp-0.0.4\n"
          ]
        }
      ]
    },
    {
      "cell_type": "code",
      "execution_count": 3,
      "metadata": {
        "id": "BD1FBBL7WAvF"
      },
      "outputs": [],
      "source": [
        "import numpy as np\n",
        "import jax\n",
        "import jax.numpy as jnp\n",
        "import haiku as hk\n",
        "import optax\n",
        "\n",
        "from keras.datasets import mnist, cifar100\n",
        "\n",
        "import functools\n",
        "import matplotlib.pyplot as plt"
      ]
    },
    {
      "cell_type": "markdown",
      "source": [
        "# Dataset"
      ],
      "metadata": {
        "id": "Pn2HLfoysGiN"
      }
    },
    {
      "cell_type": "code",
      "source": [
        "def gen_one_hot_y(y, num_classes):\n",
        "    one_hot_y = np.zeros((len(y), num_classes))\n",
        "    for i in range(len(y)):\n",
        "        one_hot_y[i, y[i]] = 1\n",
        "    return one_hot_y\n",
        "\n",
        "# Shuffle the training dataset\n",
        "def unison_shuffled_copies(a, b):\n",
        "    p = np.random.permutation(len(a))\n",
        "    return a[p], b[p]"
      ],
      "metadata": {
        "id": "D0_7mdXcqlaG"
      },
      "execution_count": 14,
      "outputs": []
    },
    {
      "cell_type": "code",
      "source": [
        "# (train_X, train_y), (test_X, test_y) = mnist.load_data()\n",
        "(train_X, train_y), (test_X, test_y) = cifar100.load_data(label_mode=\"fine\")\n",
        "num_classes = 100"
      ],
      "metadata": {
        "id": "VOKMXIZQWiX4"
      },
      "execution_count": 15,
      "outputs": []
    },
    {
      "cell_type": "code",
      "source": [
        "train_X, train_y = unison_shuffled_copies(train_X, train_y)"
      ],
      "metadata": {
        "id": "NgDHppa8PZCF"
      },
      "execution_count": 16,
      "outputs": []
    },
    {
      "cell_type": "code",
      "source": [
        "train_one_hot_y = gen_one_hot_y(train_y, num_classes)\n",
        "test_one_hot_y = gen_one_hot_y(test_y, num_classes)"
      ],
      "metadata": {
        "id": "BW8anrwIrWzd"
      },
      "execution_count": 17,
      "outputs": []
    },
    {
      "cell_type": "code",
      "source": [
        "# Normalize and add channel dim\n",
        "train_X = train_X / 255.0\n",
        "# train_X = np.expand_dims(train_X, axis=3)\n",
        "\n",
        "test_X = test_X / 255.0\n",
        "# test_X = np.expand_dims(test_X, axis=3)"
      ],
      "metadata": {
        "id": "dFSaURMPsJbX"
      },
      "execution_count": 18,
      "outputs": []
    },
    {
      "cell_type": "code",
      "source": [
        "train_X.shape"
      ],
      "metadata": {
        "colab": {
          "base_uri": "https://localhost:8080/"
        },
        "id": "NfUyc3Sy-zQV",
        "outputId": "a2b6a2df-d134-46dc-da98-5325af1059c6"
      },
      "execution_count": 19,
      "outputs": [
        {
          "output_type": "execute_result",
          "data": {
            "text/plain": [
              "(50000, 32, 32, 3)"
            ]
          },
          "metadata": {},
          "execution_count": 19
        }
      ]
    },
    {
      "cell_type": "code",
      "source": [
        "i = 145\n",
        "print(train_y[i], train_one_hot_y[i])\n",
        "plt.imshow(train_X[i])"
      ],
      "metadata": {
        "colab": {
          "base_uri": "https://localhost:8080/",
          "height": 537
        },
        "id": "WUq3j-m7Pzk4",
        "outputId": "d4faeb53-d24e-4d7e-fc56-150f4f5cc55a"
      },
      "execution_count": 22,
      "outputs": [
        {
          "output_type": "stream",
          "name": "stdout",
          "text": [
            "[63] [0. 0. 0. 0. 0. 0. 0. 0. 0. 0. 0. 0. 0. 0. 0. 0. 0. 0. 0. 0. 0. 0. 0. 0.\n",
            " 0. 0. 0. 0. 0. 0. 0. 0. 0. 0. 0. 0. 0. 0. 0. 0. 0. 0. 0. 0. 0. 0. 0. 0.\n",
            " 0. 0. 0. 0. 0. 0. 0. 0. 0. 0. 0. 0. 0. 0. 0. 1. 0. 0. 0. 0. 0. 0. 0. 0.\n",
            " 0. 0. 0. 0. 0. 0. 0. 0. 0. 0. 0. 0. 0. 0. 0. 0. 0. 0. 0. 0. 0. 0. 0. 0.\n",
            " 0. 0. 0. 0.]\n"
          ]
        },
        {
          "output_type": "execute_result",
          "data": {
            "text/plain": [
              "<matplotlib.image.AxesImage at 0x7f6d1e9d4e20>"
            ]
          },
          "metadata": {},
          "execution_count": 22
        },
        {
          "output_type": "display_data",
          "data": {
            "text/plain": [
              "<Figure size 640x480 with 1 Axes>"
            ],
            "image/png": "[encoded data removed]"
          },
          "metadata": {}
        }
      ]
    },
    {
      "cell_type": "markdown",
      "source": [
        "# Networks"
      ],
      "metadata": {
        "id": "lixyOtpEsOIh"
      }
    },
    {
      "cell_type": "code",
      "source": [
        "def cross_entropy_loss(logits, labels):\n",
        "    \"\"\"\n",
        "    Args:\n",
        "        logits: Unnormalized log probabilities, with shape `[..., num_classes]`.\n",
        "        labels: Valid probability distributions (non-negative, sum to 1), e.g a\n",
        "            one hot encoding specifying the correct class for each input;\n",
        "            must have a shape broadcastable to `[..., num_classes]`.\n",
        "    Returns:\n",
        "        cross entropy between each prediction and the corresponding target\n",
        "        distributions, with shape `[...]`.\n",
        "    \"\"\"\n",
        "    return -jnp.sum(labels * jax.nn.log_softmax(logits, axis=-1), axis=-1)\n",
        "\n",
        "def loss_fn(model, params, batch, rng):\n",
        "    # batch = {'x': input_batch, 'label': one_hot}\n",
        "    logits = model(params=params, rng=rng, x=batch['x'])\n",
        "    return jnp.sum(cross_entropy_loss(logits, batch['label']))"
      ],
      "metadata": {
        "id": "8ihoBR0mmAkl"
      },
      "execution_count": 23,
      "outputs": []
    },
    {
      "cell_type": "code",
      "source": [
        "# Training, in a class to handle jitting better\n",
        "class SGDLearner():\n",
        "    def __init__(self, model, loss_fn, optimizer, random_key, dummy_x):\n",
        "        self.model = model\n",
        "        self._model_with_loss = functools.partial(loss_fn, model.apply)\n",
        "\n",
        "        def sgd_step_fun(state, batch):\n",
        "            \"\"\"\n",
        "            state = {'params', 'opt_state', 'rng_key'}\n",
        "            Returns: state, extra\n",
        "            \"\"\"\n",
        "            # Run gradient step\n",
        "            extra = {}\n",
        "            next_rng_key, rng_key = jax.random.split(state['rng_key'])\n",
        "            loss, grads = jax.value_and_grad(self._model_with_loss)(state['params'], batch, rng_key)\n",
        "            extra['loss'] = loss\n",
        "            # Apply the optimizer updates\n",
        "            updates, new_opt_state = optimizer.update(grads, state['opt_state'])\n",
        "            new_params = optax.apply_updates(state['params'], updates)\n",
        "            new_state = {'params':new_params, 'opt_state':new_opt_state, 'rng_key':next_rng_key}\n",
        "            return new_state, extra\n",
        "        self._sgd_step = jax.jit(sgd_step_fun)\n",
        "\n",
        "        # Initialize the network parameters\n",
        "        key_params, key_state = jax.random.split(random_key, 2)\n",
        "        initial_params = self.model.init(rng=key_params, x=dummy_x)\n",
        "        self._state = {\n",
        "            'params': initial_params,\n",
        "            'opt_state': optimizer.init(initial_params),\n",
        "            'rng_key': key_state\n",
        "        }\n",
        "    \n",
        "    def step(self, batch):\n",
        "        self._state, extra = self._sgd_step(self._state, batch)\n",
        "        return extra\n",
        "\n",
        "    def get_params(self):\n",
        "        return self._state['params']\n",
        "\n",
        "    def save(self):\n",
        "        return self._state\n",
        "\n",
        "    def restore(self, state):\n",
        "        self._state = state"
      ],
      "metadata": {
        "id": "MtBwYq2gFXY0"
      },
      "execution_count": 24,
      "outputs": []
    },
    {
      "cell_type": "code",
      "source": [
        "def eval_loss_acc_fn(model, params, batch, rng):\n",
        "    extra = {}\n",
        "    logits = model(params=params, rng=rng, x=batch['x'])\n",
        "    extra['loss'] = jnp.sum(cross_entropy_loss(logits, batch['label']))\n",
        "    preds = jnp.argmax(logits, axis=1)\n",
        "    labels = jnp.argmax(batch['label'], axis=1)\n",
        "    extra['hits'] = jnp.sum(preds == labels)\n",
        "    return extra\n",
        "\n",
        "class Evaluator():\n",
        "    def __init__(self, model, eval_fn, random_key):\n",
        "        self.model = model\n",
        "        self._model_eval = jax.jit(functools.partial(eval_fn, model.apply))\n",
        "        self.rng = random_key\n",
        "    \n",
        "    def evaluate(self, params, batch):\n",
        "        return self._model_eval(params, batch, self.rng)\n"
      ],
      "metadata": {
        "id": "xvnWkZx9T8qJ"
      },
      "execution_count": 25,
      "outputs": []
    },
    {
      "cell_type": "code",
      "source": [
        "# Train loop\n",
        "def train_loop(X, y, batch_sz, learner):\n",
        "    total_loss = 0.0\n",
        "    X_len = len(y)\n",
        "    for i in range(1 + X_len//batch_sz):\n",
        "        low_i = i*batch_sz\n",
        "        high_i = min((i+1)*batch_sz, X_len)\n",
        "        if low_i >= X_len: break\n",
        "        batch = {'x': X[low_i: high_i], 'label': y[low_i: high_i]}\n",
        "        extra = learner.step(batch)\n",
        "        total_loss += extra['loss']\n",
        "    return {'mean_loss':total_loss/X_len}\n",
        "\n",
        "# Eval Loop => also get accuracy => another jit function\n",
        "def eval_loop(X, y, batch_sz, evaluator, params):\n",
        "    total_loss = 0.0\n",
        "    hits = 0.0\n",
        "    X_len = len(y)\n",
        "    for i in range(1 + X_len//batch_sz):\n",
        "        low_i = i*batch_sz\n",
        "        high_i = min((i+1)*batch_sz, X_len)\n",
        "        if low_i >= X_len: break\n",
        "        batch = {'x': X[low_i: high_i], 'label': y[low_i: high_i]}\n",
        "        extra = evaluator.evaluate(params, batch)\n",
        "        total_loss += extra['loss']\n",
        "        hits += extra['hits']\n",
        "    return {'mean_loss':total_loss/X_len, 'accuracy':hits/X_len}"
      ],
      "metadata": {
        "id": "kj4X_nUON9RT"
      },
      "execution_count": 26,
      "outputs": []
    },
    {
      "cell_type": "code",
      "source": [
        "class LeNet5(hk.Module):\n",
        "    def __init__(self, output_sz, name=None):\n",
        "        super().__init__(name=name)\n",
        "        self.output_sz = output_sz\n",
        "\n",
        "    def __call__(self, x):\n",
        "        network = hk.Sequential([\n",
        "            hk.Conv2D(output_channels=6, kernel_shape=[4, 4], stride=1, padding='VALID'),\n",
        "            jax.nn.relu,\n",
        "            hk.MaxPool(window_shape=[1, 2, 2, 1], strides=[1, 2, 2, 1], padding='SAME'),\n",
        "            hk.Conv2D(output_channels=16, kernel_shape=[4, 4], stride=1, padding='VALID'),\n",
        "            jax.nn.relu,\n",
        "            hk.MaxPool(window_shape=[1, 2, 2, 1], strides=[1, 2, 2, 1], padding='SAME'),\n",
        "            hk.Flatten(),\n",
        "            hk.Linear(120),\n",
        "            jax.nn.relu,\n",
        "            hk.Linear(84),\n",
        "            jax.nn.relu,\n",
        "            hk.Linear(self.output_sz)\n",
        "        ])\n",
        "        return network(x)\n",
        "\n",
        "def _LeNet5_fun(x):\n",
        "    module = LeNet5(num_classes)\n",
        "    return module(x)\n",
        "\n",
        "model = hk.transform(_LeNet5_fun)"
      ],
      "metadata": {
        "id": "4i_tMLpcXGjV"
      },
      "execution_count": 32,
      "outputs": []
    },
    {
      "cell_type": "code",
      "source": [
        "dummy_x = jnp.ones(shape=(2, train_X.shape[1], train_X.shape[2], train_X.shape[3]))\n",
        "rng_key = jax.random.PRNGKey(42)\n",
        "\n",
        "grad_clip_value = np.inf\n",
        "learning_rate = 1e-3\n",
        "batch_sz = 128\n",
        "\n",
        "optimizer = optax.chain(\n",
        "        optax.clip_by_global_norm(grad_clip_value),\n",
        "        optax.adam(learning_rate, b1=0.9, b2=0.99))\n",
        "\n",
        "learner = SGDLearner(model, loss_fn, optimizer, rng_key, dummy_x)\n",
        "evaluator = Evaluator(model, eval_loss_acc_fn, rng_key)\n",
        "\n",
        "train_loss_l = []\n",
        "val_loss_l = []\n",
        "val_acc_l = []"
      ],
      "metadata": {
        "id": "7-yaXj_Lacrb"
      },
      "execution_count": 33,
      "outputs": []
    },
    {
      "cell_type": "code",
      "source": [
        "n_epochs = 5\n",
        "last_epoch = 0"
      ],
      "metadata": {
        "id": "V1EZsVoBdrsj"
      },
      "execution_count": 34,
      "outputs": []
    },
    {
      "cell_type": "code",
      "source": [
        "for epoch_i in range(last_epoch, n_epochs+last_epoch):\n",
        "    train_extra = train_loop(train_X, train_one_hot_y, batch_sz, learner)\n",
        "    val_extra = eval_loop(test_X, test_one_hot_y, batch_sz, evaluator, learner.get_params())\n",
        "    \n",
        "    print(f'Epoch {epoch_i}: \\n\\t Train loss: {train_extra[\"mean_loss\"]}')\n",
        "    print(f' Val loss: {val_extra[\"mean_loss\"]} \\t Val Acc: {val_extra[\"accuracy\"]}')\n",
        "    train_loss_l.append(train_extra['mean_loss'])\n",
        "    val_loss_l.append(val_extra['mean_loss'])\n",
        "    val_acc_l.append(val_extra['accuracy'])\n"
      ],
      "metadata": {
        "id": "BuSuHTkndt-U"
      },
      "execution_count": null,
      "outputs": []
    },
    {
      "cell_type": "code",
      "source": [
        "# Plot results\n",
        "print('Final Val Accuracy: {:.3f}'.format(val_acc_l[-1]))\n",
        "x = list(range(len(train_loss_l)))\n",
        "plt.plot(x, train_loss_l, label='train')\n",
        "plt.plot(x, val_loss_l, label='val')\n",
        "plt.legend()"
      ],
      "metadata": {
        "colab": {
          "base_uri": "https://localhost:8080/",
          "height": 301
        },
        "id": "Y7vR96QYiGDR",
        "outputId": "69234ab1-9b73-450c-b7c8-278ce6961b7a"
      },
      "execution_count": 27,
      "outputs": [
        {
          "output_type": "stream",
          "name": "stdout",
          "text": [
            "Final Val Accuracy: 0.985\n"
          ]
        },
        {
          "output_type": "execute_result",
          "data": {
            "text/plain": [
              "<matplotlib.legend.Legend at 0x7ff68afd9ac0>"
            ]
          },
          "metadata": {},
          "execution_count": 27
        },
        {
          "output_type": "display_data",
          "data": {
            "text/plain": [
              "<Figure size 432x288 with 1 Axes>"
            ],
            "image/png": "[encoded data removed]"
          },
          "metadata": {
            "needs_background": "light"
          }
        }
      ]
    },
    {
      "cell_type": "code",
      "source": [],
      "metadata": {
        "id": "rmFXkIZujStB"
      },
      "execution_count": null,
      "outputs": []
    }
  ]
}